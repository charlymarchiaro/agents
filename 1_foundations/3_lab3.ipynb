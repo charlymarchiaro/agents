{
 "cells": [
  {
   "cell_type": "markdown",
   "metadata": {},
   "source": [
    "## Welcome to Lab 3 for Week 1 Day 4\n",
    "\n",
    "Today we're going to build something with immediate value!\n",
    "\n",
    "In the folder `me` I've put a single file `linkedin.pdf` - it's a PDF download of my LinkedIn profile.\n",
    "\n",
    "Please replace it with yours!\n",
    "\n",
    "I've also made a file called `summary.txt`\n",
    "\n",
    "We're not going to use Tools just yet - we're going to add the tool tomorrow."
   ]
  },
  {
   "cell_type": "markdown",
   "metadata": {},
   "source": [
    "<table style=\"margin: 0; text-align: left; width:100%\">\n",
    "    <tr>\n",
    "        <td style=\"width: 150px; height: 150px; vertical-align: middle;\">\n",
    "            <img src=\"../assets/tools.png\" width=\"150\" height=\"150\" style=\"display: block;\" />\n",
    "        </td>\n",
    "        <td>\n",
    "            <h2 style=\"color:#00bfff;\">Looking up packages</h2>\n",
    "            <span style=\"color:#00bfff;\">In this lab, we're going to use the wonderful Gradio package for building quick UIs, \n",
    "            and we're also going to use the popular PyPDF PDF reader. You can get guides to these packages by asking \n",
    "            ChatGPT or Claude, and you find all open-source packages on the repository <a href=\"https://pypi.org\">https://pypi.org</a>.\n",
    "            </span>\n",
    "        </td>\n",
    "    </tr>\n",
    "</table>"
   ]
  },
  {
   "cell_type": "code",
   "execution_count": 1,
   "metadata": {},
   "outputs": [],
   "source": [
    "# If you don't know what any of these packages do - you can always ask ChatGPT for a guide!\n",
    "\n",
    "from dotenv import load_dotenv\n",
    "from openai import OpenAI\n",
    "from pypdf import PdfReader\n",
    "import gradio as gr"
   ]
  },
  {
   "cell_type": "code",
   "execution_count": 2,
   "metadata": {},
   "outputs": [],
   "source": [
    "load_dotenv(override=True)\n",
    "openai = OpenAI()"
   ]
  },
  {
   "cell_type": "code",
   "execution_count": 9,
   "metadata": {},
   "outputs": [],
   "source": [
    "reader = PdfReader(\"me/linkedin.pdf\")\n",
    "linkedin = \"\"\n",
    "for page in reader.pages:\n",
    "    text = page.extract_text()\n",
    "    if text:\n",
    "        linkedin += text"
   ]
  },
  {
   "cell_type": "code",
   "execution_count": 10,
   "metadata": {},
   "outputs": [
    {
     "name": "stdout",
     "output_type": "stream",
     "text": [
      "   \n",
      "Contactar\n",
      "Rosario, Argentina.\n",
      "carlosmarchiaro@gmail.com\n",
      "www.linkedin.com/in/\n",
      "carlosmarchiaro (LinkedIn)\n",
      "horseconsulting.io (Company)\n",
      "Aptitudes principales\n",
      "Microservices\n",
      "Software Architecture\n",
      "GitHub Actions\n",
      "Languages\n",
      "Español (Native or Bilingual)\n",
      "Inglés (Full Professional)\n",
      "Certifications\n",
      "Redis: The Complete Developer's\n",
      "Guide\n",
      "Microservices Architecture - The\n",
      "Complete Guide\n",
      "The Ultimate Dark Web, Anonymity,\n",
      "Privacy & Security Course\n",
      "Symfony 4 Fundamentals: Services,\n",
      "Config & Environments\n",
      "Structuring Machine Learning\n",
      "Projects\n",
      "Honors-Awards\n",
      "Cuadro de Honor\n",
      "Carlos Marchiaro\n",
      "CTO at HORSE\n",
      "Argentina\n",
      "Experiencia\n",
      "Horse Consulting\n",
      "Chief Technology Officer\n",
      "enero de 2025 - Present (7 meses)\n",
      "Telecom Argentina\n",
      "Especialista - Lineamientos de Diseño y Sincronización de Planes de\n",
      "Acceso Móvil\n",
      "febrero de 2024 - enero de 2025 (1 año)\n",
      "Argentina\n",
      "Profesional independiente\n",
      "Freelance Software Engineer\n",
      "mayo de 2020 - enero de 2025 (4 años 9 meses)\n",
      "Argentina\n",
      "I am currently working on a project for HORSE that involves web scraping,\n",
      "data mining applying different information retrieval techniques, such as\n",
      "indexing for boolean queries and relevance rankings based on vectorization of\n",
      "words and documents (Word2vec, Doc2vec), and other techniques of natural\n",
      "language processing (NLP) and machine learning in general.\n",
      "The project is cloud-based, with a microservices architecture, using Docker\n",
      "containers in a Kubernetes cluster.\n",
      "Telecom Personal Argentina\n",
      "16 años 8 meses\n",
      "Especialista - Ingeniería Diseño Acceso Móvil\n",
      "diciembre de 2020 - marzo de 2024 (3 años 4 meses)\n",
      "Argentina\n",
      "RF Planning & Optimization Engineer and Full Stack Web Developer\n",
      "septiembre de 2015 - diciembre de 2020 (5 años 4 meses)\n",
      "Diseño, desarrollo y mantenimiento de la aplicación Ingenier@.\n",
      "Analista de Calidad de RAN\n",
      "noviembre de 2011 - agosto de 2015 (3 años 10 meses)\n",
      "Rosario, Santa Fe, Argentina.\n",
      "  Page 1 of 2   \n",
      "Control de calidad, elaboración de planes de acción. Supervisión de red,\n",
      "detección y diagnóstico de fallas. Operación centralizada e integral de\n",
      "diferentes sistemas de gestión. Participación en planes de actualización\n",
      "tecnológica de la red móvil. Soporte a técnicos en campo. Tareas de\n",
      "capacitación.\n",
      "Analista de OyM\n",
      "agosto de 2007 - noviembre de 2011 (4 años 4 meses)\n",
      "Rosario, Santa Fe, Argentina\n",
      "OyM de la Radio Access Network y Core Network bajo los estándares GSM/\n",
      "UMTS de tecnología móvil. Gestión y monitoreo remoto. Mediciones de\n",
      "campo y análisis empleando equipamiento específico. Análisis de KPI de\n",
      "la red de acceso y gestión de QoS. Experiencia en diversas tecnologías de\n",
      "telecomunicaciones.\n",
      "Independiente\n",
      "Desarrollador de videojuegos\n",
      "febrero de 2014 - septiembre de 2015 (1 año 8 meses)\n",
      "Trabajo actualmente en mi tiempo libre en algunos proyectos de videojuegos\n",
      "educativos.\n",
      "Televisión Litoral\n",
      "Técnico de Mantenimiento\n",
      "agosto de 2004 - enero de 2006 (1 año 6 meses)\n",
      "Rosario, Santa Fe, Argentina\n",
      "Diseño, construcción, instalación y reparación de dispositivos electrónicos.\n",
      "Experiencia en consolas y procesadores de audio, equipo broadcasting de TV/\n",
      "radio, sistemas de gestión y monitoreo remoto, OyM de la red de repetidoras\n",
      "de TV/radio. Desarrollo de software para intercalación automatizada de tandas\n",
      "publicitarias.\n",
      "Educación\n",
      "Universidad Nacional de Rosario\n",
      "Ingeniería Electrónica, Ingeniería eléctrica, electrónica y de\n",
      "comunicaciones · (2000 - 2006)\n",
      "Escuela Industrial Superior\n",
      "Técnico Mecánico Electricista  · (1994 - 1999)\n",
      "  Page 2 of 2\n"
     ]
    }
   ],
   "source": [
    "print(linkedin)"
   ]
  },
  {
   "cell_type": "code",
   "execution_count": 13,
   "metadata": {},
   "outputs": [],
   "source": [
    "with open(\"me/summary.txt\", \"r\", encoding=\"utf-8\") as f:\n",
    "    summary = f.read()"
   ]
  },
  {
   "cell_type": "code",
   "execution_count": 14,
   "metadata": {},
   "outputs": [],
   "source": [
    "name = \"Carlos Marchiaro\""
   ]
  },
  {
   "cell_type": "code",
   "execution_count": 15,
   "metadata": {},
   "outputs": [],
   "source": [
    "system_prompt = f\"You are acting as {name}. You are answering questions on {name}'s website, \\\n",
    "particularly questions related to {name}'s career, background, skills and experience. \\\n",
    "Your responsibility is to represent {name} for interactions on the website as faithfully as possible. \\\n",
    "You are given a summary of {name}'s background and LinkedIn profile which you can use to answer questions. \\\n",
    "Be professional and engaging, as if talking to a potential client or future employer who came across the website. \\\n",
    "If you don't know the answer, say so.\"\n",
    "\n",
    "system_prompt += f\"\\n\\n## Summary:\\n{summary}\\n\\n## LinkedIn Profile:\\n{linkedin}\\n\\n\"\n",
    "system_prompt += f\"With this context, please chat with the user, always staying in character as {name}.\"\n"
   ]
  },
  {
   "cell_type": "code",
   "execution_count": 16,
   "metadata": {},
   "outputs": [
    {
     "data": {
      "text/plain": [
       "\"You are acting as Carlos Marchiaro. You are answering questions on Carlos Marchiaro's website, particularly questions related to Carlos Marchiaro's career, background, skills and experience. Your responsibility is to represent Carlos Marchiaro for interactions on the website as faithfully as possible. You are given a summary of Carlos Marchiaro's background and LinkedIn profile which you can use to answer questions. Be professional and engaging, as if talking to a potential client or future employer who came across the website. If you don't know the answer, say so.\\n\\n## Summary:\\nMy name is Carlos. I'm a CTO, software engineer, and data scientist. I'm from Rosario, Argentina.\\nI earned my degree in Electronics Engineering in 2006. I worked for a large telecommunications company for 17 years, and gradually turned towards software engineering. My interests are diverse, and include music, multiple spiritual traditions, and maths.\\n\\n## LinkedIn Profile:\\n\\xa0 \\xa0\\nContactar\\nRosario, Argentina.\\ncarlosmarchiaro@gmail.com\\nwww.linkedin.com/in/\\ncarlosmarchiaro (LinkedIn)\\nhorseconsulting.io (Company)\\nAptitudes principales\\nMicroservices\\nSoftware Architecture\\nGitHub Actions\\nLanguages\\nEspañol (Native or Bilingual)\\nInglés (Full Professional)\\nCertifications\\nRedis: The Complete Developer's\\nGuide\\nMicroservices Architecture - The\\nComplete Guide\\nThe Ultimate Dark Web, Anonymity,\\nPrivacy & Security Course\\nSymfony 4 Fundamentals: Services,\\nConfig & Environments\\nStructuring Machine Learning\\nProjects\\nHonors-Awards\\nCuadro de Honor\\nCarlos Marchiaro\\nCTO at HORSE\\nArgentina\\nExperiencia\\nHorse Consulting\\nChief Technology Officer\\nenero de 2025\\xa0-\\xa0Present\\xa0(7 meses)\\nTelecom Argentina\\nEspecialista - Lineamientos de Diseño y Sincronización de Planes de\\nAcceso Móvil\\nfebrero de 2024\\xa0-\\xa0enero de 2025\\xa0(1 año)\\nArgentina\\nProfesional independiente\\nFreelance Software Engineer\\nmayo de 2020\\xa0-\\xa0enero de 2025\\xa0(4 años 9 meses)\\nArgentina\\nI am currently working on a project for HORSE that involves web scraping,\\ndata mining applying different information retrieval techniques, such as\\nindexing for boolean queries and relevance rankings based on vectorization of\\nwords and documents (Word2vec, Doc2vec), and other techniques of natural\\nlanguage processing (NLP) and machine learning in general.\\nThe project is cloud-based, with a microservices architecture, using Docker\\ncontainers in a Kubernetes cluster.\\nTelecom Personal Argentina\\n16 años 8 meses\\nEspecialista - Ingeniería Diseño Acceso Móvil\\ndiciembre de 2020\\xa0-\\xa0marzo de 2024\\xa0(3 años 4 meses)\\nArgentina\\nRF Planning & Optimization Engineer and Full Stack Web Developer\\nseptiembre de 2015\\xa0-\\xa0diciembre de 2020\\xa0(5 años 4 meses)\\nDiseño, desarrollo y mantenimiento de la aplicación Ingenier@.\\nAnalista de Calidad de RAN\\nnoviembre de 2011\\xa0-\\xa0agosto de 2015\\xa0(3 años 10 meses)\\nRosario, Santa Fe, Argentina.\\n\\xa0 Page 1 of 2\\xa0 \\xa0\\nControl de calidad, elaboración de planes de acción. Supervisión de red,\\ndetección y diagnóstico de fallas. Operación centralizada e integral de\\ndiferentes sistemas de gestión. Participación en planes de actualización\\ntecnológica de la red móvil. Soporte a técnicos en campo. Tareas de\\ncapacitación.\\nAnalista de OyM\\nagosto de 2007\\xa0-\\xa0noviembre de 2011\\xa0(4 años 4 meses)\\nRosario, Santa Fe, Argentina\\nOyM de la Radio Access Network y Core Network bajo los estándares GSM/\\nUMTS de tecnología móvil. Gestión y monitoreo remoto. Mediciones de\\ncampo y análisis empleando equipamiento específico. Análisis de KPI de\\nla red de acceso y gestión de QoS. Experiencia en diversas tecnologías de\\ntelecomunicaciones.\\nIndependiente\\nDesarrollador de videojuegos\\nfebrero de 2014\\xa0-\\xa0septiembre de 2015\\xa0(1 año 8 meses)\\nTrabajo actualmente en mi tiempo libre en algunos proyectos de videojuegos\\neducativos.\\nTelevisión Litoral\\nTécnico de Mantenimiento\\nagosto de 2004\\xa0-\\xa0enero de 2006\\xa0(1 año 6 meses)\\nRosario, Santa Fe, Argentina\\nDiseño, construcción, instalación y reparación de dispositivos electrónicos.\\nExperiencia en consolas y procesadores de audio, equipo broadcasting de TV/\\nradio, sistemas de gestión y monitoreo remoto, OyM de la red de repetidoras\\nde TV/radio. Desarrollo de software para intercalación automatizada de tandas\\npublicitarias.\\nEducación\\nUniversidad Nacional de Rosario\\nIngeniería Electrónica,\\xa0Ingeniería eléctrica, electrónica y de\\ncomunicaciones\\xa0·\\xa0(2000\\xa0-\\xa02006)\\nEscuela Industrial Superior\\nTécnico Mecánico Electricista\\xa0\\xa0·\\xa0(1994\\xa0-\\xa01999)\\n\\xa0 Page 2 of 2\\n\\nWith this context, please chat with the user, always staying in character as Carlos Marchiaro.\""
      ]
     },
     "execution_count": 16,
     "metadata": {},
     "output_type": "execute_result"
    }
   ],
   "source": [
    "system_prompt"
   ]
  },
  {
   "cell_type": "code",
   "execution_count": 17,
   "metadata": {},
   "outputs": [],
   "source": [
    "def chat(message, history):\n",
    "    messages = [{\"role\": \"system\", \"content\": system_prompt}] + history + [{\"role\": \"user\", \"content\": message}]\n",
    "    response = openai.chat.completions.create(model=\"gpt-4o-mini\", messages=messages)\n",
    "    return response.choices[0].message.content"
   ]
  },
  {
   "cell_type": "code",
   "execution_count": 18,
   "metadata": {},
   "outputs": [
    {
     "name": "stdout",
     "output_type": "stream",
     "text": [
      "* Running on local URL:  http://127.0.0.1:7860\n",
      "* To create a public link, set `share=True` in `launch()`.\n"
     ]
    },
    {
     "data": {
      "text/html": [
       "<div><iframe src=\"http://127.0.0.1:7860/\" width=\"100%\" height=\"500\" allow=\"autoplay; camera; microphone; clipboard-read; clipboard-write;\" frameborder=\"0\" allowfullscreen></iframe></div>"
      ],
      "text/plain": [
       "<IPython.core.display.HTML object>"
      ]
     },
     "metadata": {},
     "output_type": "display_data"
    },
    {
     "data": {
      "text/plain": []
     },
     "execution_count": 18,
     "metadata": {},
     "output_type": "execute_result"
    }
   ],
   "source": [
    "gr.ChatInterface(chat, type=\"messages\").launch()"
   ]
  },
  {
   "cell_type": "markdown",
   "metadata": {},
   "source": [
    "## A lot is about to happen...\n",
    "\n",
    "1. Be able to ask an LLM to evaluate an answer\n",
    "2. Be able to rerun if the answer fails evaluation\n",
    "3. Put this together into 1 workflow\n",
    "\n",
    "All without any Agentic framework!"
   ]
  },
  {
   "cell_type": "code",
   "execution_count": 11,
   "metadata": {},
   "outputs": [],
   "source": [
    "# Create a Pydantic model for the Evaluation\n",
    "\n",
    "from pydantic import BaseModel\n",
    "\n",
    "class Evaluation(BaseModel):\n",
    "    is_acceptable: bool\n",
    "    feedback: str\n"
   ]
  },
  {
   "cell_type": "code",
   "execution_count": 23,
   "metadata": {},
   "outputs": [],
   "source": [
    "evaluator_system_prompt = f\"You are an evaluator that decides whether a response to a question is acceptable. \\\n",
    "You are provided with a conversation between a User and an Agent. Your task is to decide whether the Agent's latest response is acceptable quality. \\\n",
    "The Agent is playing the role of {name} and is representing {name} on their website. \\\n",
    "The Agent has been instructed to be professional and engaging, as if talking to a potential client or future employer who came across the website. \\\n",
    "The Agent has been provided with context on {name} in the form of their summary and LinkedIn details. Here's the information:\"\n",
    "\n",
    "evaluator_system_prompt += f\"\\n\\n## Summary:\\n{summary}\\n\\n## LinkedIn Profile:\\n{linkedin}\\n\\n\"\n",
    "evaluator_system_prompt += f\"With this context, please evaluate the latest response, replying with whether the response is acceptable and your feedback.\""
   ]
  },
  {
   "cell_type": "code",
   "execution_count": 24,
   "metadata": {},
   "outputs": [],
   "source": [
    "def evaluator_user_prompt(reply, message, history):\n",
    "    user_prompt = f\"Here's the conversation between the User and the Agent: \\n\\n{history}\\n\\n\"\n",
    "    user_prompt += f\"Here's the latest message from the User: \\n\\n{message}\\n\\n\"\n",
    "    user_prompt += f\"Here's the latest response from the Agent: \\n\\n{reply}\\n\\n\"\n",
    "    user_prompt += \"Please evaluate the response, replying with whether it is acceptable and your feedback.\"\n",
    "    return user_prompt"
   ]
  },
  {
   "cell_type": "code",
   "execution_count": 25,
   "metadata": {},
   "outputs": [],
   "source": [
    "import os\n",
    "gemini = OpenAI(\n",
    "    api_key=os.getenv(\"GOOGLE_API_KEY\"), \n",
    "    base_url=\"https://generativelanguage.googleapis.com/v1beta/openai/\"\n",
    ")"
   ]
  },
  {
   "cell_type": "code",
   "execution_count": 26,
   "metadata": {},
   "outputs": [],
   "source": [
    "def evaluate(reply, message, history) -> Evaluation:\n",
    "\n",
    "    messages = [{\"role\": \"system\", \"content\": evaluator_system_prompt}] + [{\"role\": \"user\", \"content\": evaluator_user_prompt(reply, message, history)}]\n",
    "    response = gemini.beta.chat.completions.parse(model=\"gemini-2.0-flash\", messages=messages, response_format=Evaluation)\n",
    "    return response.choices[0].message.parsed"
   ]
  },
  {
   "cell_type": "code",
   "execution_count": 27,
   "metadata": {},
   "outputs": [],
   "source": [
    "messages = [{\"role\": \"system\", \"content\": system_prompt}] + [{\"role\": \"user\", \"content\": \"do you hold a patent?\"}]\n",
    "response = openai.chat.completions.create(model=\"gpt-4o-mini\", messages=messages)\n",
    "reply = response.choices[0].message.content"
   ]
  },
  {
   "cell_type": "code",
   "execution_count": null,
   "metadata": {},
   "outputs": [],
   "source": [
    "reply"
   ]
  },
  {
   "cell_type": "code",
   "execution_count": null,
   "metadata": {},
   "outputs": [],
   "source": [
    "evaluate(reply, \"do you hold a patent?\", messages[:1])"
   ]
  },
  {
   "cell_type": "code",
   "execution_count": 30,
   "metadata": {},
   "outputs": [],
   "source": [
    "def rerun(reply, message, history, feedback):\n",
    "    updated_system_prompt = system_prompt + \"\\n\\n## Previous answer rejected\\nYou just tried to reply, but the quality control rejected your reply\\n\"\n",
    "    updated_system_prompt += f\"## Your attempted answer:\\n{reply}\\n\\n\"\n",
    "    updated_system_prompt += f\"## Reason for rejection:\\n{feedback}\\n\\n\"\n",
    "    messages = [{\"role\": \"system\", \"content\": updated_system_prompt}] + history + [{\"role\": \"user\", \"content\": message}]\n",
    "    response = openai.chat.completions.create(model=\"gpt-4o-mini\", messages=messages)\n",
    "    return response.choices[0].message.content"
   ]
  },
  {
   "cell_type": "code",
   "execution_count": 35,
   "metadata": {},
   "outputs": [],
   "source": [
    "def chat(message, history):\n",
    "    if \"patent\" in message:\n",
    "        system = system_prompt + \"\\n\\nEverything in your reply needs to be in pig latin - \\\n",
    "              it is mandatory that you respond only and entirely in pig latin\"\n",
    "    else:\n",
    "        system = system_prompt\n",
    "    messages = [{\"role\": \"system\", \"content\": system}] + history + [{\"role\": \"user\", \"content\": message}]\n",
    "    response = openai.chat.completions.create(model=\"gpt-4o-mini\", messages=messages)\n",
    "    reply =response.choices[0].message.content\n",
    "\n",
    "    evaluation = evaluate(reply, message, history)\n",
    "    \n",
    "    if evaluation.is_acceptable:\n",
    "        print(\"Passed evaluation - returning reply\")\n",
    "    else:\n",
    "        print(\"Failed evaluation - retrying\")\n",
    "        print(evaluation.feedback)\n",
    "        reply = rerun(reply, message, history, evaluation.feedback)       \n",
    "    return reply"
   ]
  },
  {
   "cell_type": "code",
   "execution_count": null,
   "metadata": {},
   "outputs": [],
   "source": [
    "gr.ChatInterface(chat, type=\"messages\").launch()"
   ]
  },
  {
   "cell_type": "markdown",
   "metadata": {},
   "source": []
  },
  {
   "cell_type": "code",
   "execution_count": null,
   "metadata": {},
   "outputs": [],
   "source": []
  }
 ],
 "metadata": {
  "kernelspec": {
   "display_name": ".venv",
   "language": "python",
   "name": "python3"
  },
  "language_info": {
   "codemirror_mode": {
    "name": "ipython",
    "version": 3
   },
   "file_extension": ".py",
   "mimetype": "text/x-python",
   "name": "python",
   "nbconvert_exporter": "python",
   "pygments_lexer": "ipython3",
   "version": "3.12.6"
  }
 },
 "nbformat": 4,
 "nbformat_minor": 2
}
