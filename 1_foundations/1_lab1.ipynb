{
 "cells": [
  {
   "cell_type": "markdown",
   "metadata": {},
   "source": [
    "# Welcome to the start of your adventure in Agentic AI"
   ]
  },
  {
   "cell_type": "markdown",
   "metadata": {},
   "source": [
    "<table style=\"margin: 0; text-align: left; width:100%\">\n",
    "    <tr>\n",
    "        <td style=\"width: 150px; height: 150px; vertical-align: middle;\">\n",
    "            <img src=\"../assets/stop.png\" width=\"150\" height=\"150\" style=\"display: block;\" />\n",
    "        </td>\n",
    "        <td>\n",
    "            <h2 style=\"color:#ff7800;\">Are you ready for action??</h2>\n",
    "            <span style=\"color:#ff7800;\">Have you completed all the setup steps in the <a href=\"../setup/\">setup</a> folder?<br/>\n",
    "            Have you read the <a href=\"../README.md\">README</a>? Many common questions are answered here!<br/>\n",
    "            Have you checked out the guides in the <a href=\"../guides/01_intro.ipynb\">guides</a> folder?<br/>\n",
    "            Well in that case, you're ready!!\n",
    "            </span>\n",
    "        </td>\n",
    "    </tr>\n",
    "</table>"
   ]
  },
  {
   "cell_type": "markdown",
   "metadata": {},
   "source": [
    "<table style=\"margin: 0; text-align: left; width:100%\">\n",
    "    <tr>\n",
    "        <td style=\"width: 150px; height: 150px; vertical-align: middle;\">\n",
    "            <img src=\"../assets/tools.png\" width=\"150\" height=\"150\" style=\"display: block;\" />\n",
    "        </td>\n",
    "        <td>\n",
    "            <h2 style=\"color:#00bfff;\">This code is a live resource - keep an eye out for my updates</h2>\n",
    "            <span style=\"color:#00bfff;\">I push updates regularly. As people ask questions or have problems, I add more examples and improve explanations. As a result, the code below might not be identical to the videos, as I've added more steps and better comments. Consider this like an interactive book that accompanies the lectures.<br/><br/>\n",
    "            I try to send emails regularly with important updates related to the course. You can find this in the 'Announcements' section of Udemy in the left sidebar. You can also choose to receive my emails via your Notification Settings in Udemy. I'm respectful of your inbox and always try to add value with my emails!\n",
    "            </span>\n",
    "        </td>\n",
    "    </tr>\n",
    "</table>"
   ]
  },
  {
   "cell_type": "markdown",
   "metadata": {},
   "source": [
    "### And please do remember to contact me if I can help\n",
    "\n",
    "And I love to connect: https://www.linkedin.com/in/eddonner/\n",
    "\n",
    "\n",
    "### New to Notebooks like this one? Head over to the guides folder!\n",
    "\n",
    "Just to check you've already added the Python and Jupyter extensions to Cursor, if not already installed:\n",
    "- Open extensions (View >> extensions)\n",
    "- Search for python, and when the results show, click on the ms-python one, and Install it if not already installed\n",
    "- Search for jupyter, and when the results show, click on the Microsoft one, and Install it if not already installed  \n",
    "Then View >> Explorer to bring back the File Explorer.\n",
    "\n",
    "And then:\n",
    "1. Click where it says \"Select Kernel\" near the top right, and select the option called `.venv (Python 3.12.9)` or similar, which should be the first choice or the most prominent choice. You may need to choose \"Python Environments\" first.\n",
    "2. Click in each \"cell\" below, starting with the cell immediately below this text, and press Shift+Enter to run\n",
    "3. Enjoy!\n",
    "\n",
    "After you click \"Select Kernel\", if there is no option like `.venv (Python 3.12.9)` then please do the following:  \n",
    "1. On Mac: From the Cursor menu, choose Settings >> VS Code Settings (NOTE: be sure to select `VSCode Settings` not `Cursor Settings`);  \n",
    "On Windows PC: From the File menu, choose Preferences >> VS Code Settings(NOTE: be sure to select `VSCode Settings` not `Cursor Settings`)  \n",
    "2. In the Settings search bar, type \"venv\"  \n",
    "3. In the field \"Path to folder with a list of Virtual Environments\" put the path to the project root, like C:\\Users\\username\\projects\\agents (on a Windows PC) or /Users/username/projects/agents (on Mac or Linux).  \n",
    "And then try again.\n",
    "\n",
    "Having problems with missing Python versions in that list? Have you ever used Anaconda before? It might be interferring. Quit Cursor, bring up a new command line, and make sure that your Anaconda environment is deactivated:    \n",
    "`conda deactivate`  \n",
    "And if you still have any problems with conda and python versions, it's possible that you will need to run this too:  \n",
    "`conda config --set auto_activate_base false`  \n",
    "and then from within the Agents directory, you should be able to run `uv python list` and see the Python 3.12 version."
   ]
  },
  {
   "cell_type": "code",
   "execution_count": 1,
   "metadata": {},
   "outputs": [],
   "source": [
    "# First let's do an import. If you get an Import Error, double check that your Kernel is correct..\n",
    "\n",
    "from dotenv import load_dotenv\n"
   ]
  },
  {
   "cell_type": "code",
   "execution_count": 2,
   "metadata": {},
   "outputs": [
    {
     "data": {
      "text/plain": [
       "True"
      ]
     },
     "execution_count": 2,
     "metadata": {},
     "output_type": "execute_result"
    }
   ],
   "source": [
    "# Next it's time to load the API keys into environment variables\n",
    "# If this returns false, see the next cell!\n",
    "\n",
    "load_dotenv(override=True)"
   ]
  },
  {
   "cell_type": "markdown",
   "metadata": {},
   "source": [
    "### Wait, did that just output `False`??\n",
    "\n",
    "If so, the most common reason is that you didn't save your `.env` file after adding the key! Be sure to have saved.\n",
    "\n",
    "Also, make sure the `.env` file is named precisely `.env` and is in the project root directory (`agents`)\n",
    "\n",
    "By the way, your `.env` file should have a stop symbol next to it in Cursor on the left, and that's actually a good thing: that's Cursor saying to you, \"hey, I realize this is a file filled with secret information, and I'm not going to send it to an external AI to suggest changes, because your keys should not be shown to anyone else.\""
   ]
  },
  {
   "cell_type": "markdown",
   "metadata": {},
   "source": [
    "<table style=\"margin: 0; text-align: left; width:100%\">\n",
    "    <tr>\n",
    "        <td style=\"width: 150px; height: 150px; vertical-align: middle;\">\n",
    "            <img src=\"../assets/stop.png\" width=\"150\" height=\"150\" style=\"display: block;\" />\n",
    "        </td>\n",
    "        <td>\n",
    "            <h2 style=\"color:#ff7800;\">Final reminders</h2>\n",
    "            <span style=\"color:#ff7800;\">1. If you're not confident about Environment Variables or Web Endpoints / APIs, please read Topics 3 and 5 in this <a href=\"../guides/04_technical_foundations.ipynb\">technical foundations guide</a>.<br/>\n",
    "            2. If you want to use AIs other than OpenAI, like Gemini, DeepSeek or Ollama (free), please see the first section in this <a href=\"../guides/09_ai_apis_and_ollama.ipynb\">AI APIs guide</a>.<br/>\n",
    "            3. If you ever get a Name Error in Python, you can always fix it immediately; see the last section of this <a href=\"../guides/06_python_foundations.ipynb\">Python Foundations guide</a> and follow both tutorials and exercises.<br/>\n",
    "            </span>\n",
    "        </td>\n",
    "    </tr>\n",
    "</table>"
   ]
  },
  {
   "cell_type": "code",
   "execution_count": 3,
   "metadata": {},
   "outputs": [
    {
     "name": "stdout",
     "output_type": "stream",
     "text": [
      "OpenAI API Key exists and begins sk-proj-\n"
     ]
    }
   ],
   "source": [
    "# Check the key - if you're not using OpenAI, check whichever key you're using! Ollama doesn't need a key.\n",
    "\n",
    "import os\n",
    "openai_api_key = os.getenv('OPENAI_API_KEY')\n",
    "\n",
    "if openai_api_key:\n",
    "    print(f\"OpenAI API Key exists and begins {openai_api_key[:8]}\")\n",
    "else:\n",
    "    print(\"OpenAI API Key not set - please head to the troubleshooting guide in the setup folder\")\n",
    "    \n"
   ]
  },
  {
   "cell_type": "code",
   "execution_count": 4,
   "metadata": {},
   "outputs": [],
   "source": [
    "# And now - the all important import statement\n",
    "# If you get an import error - head over to troubleshooting in the Setup folder\n",
    "\n",
    "from openai import OpenAI"
   ]
  },
  {
   "cell_type": "code",
   "execution_count": 5,
   "metadata": {},
   "outputs": [],
   "source": [
    "# And now we'll create an instance of the OpenAI class\n",
    "# If you're not sure what it means to create an instance of a class - head over to the guides folder (guide 6)!\n",
    "# If you get a NameError - head over to the guides folder (guide 6)to learn about NameErrors - always instantly fixable\n",
    "# If you're not using OpenAI, you just need to slightly modify this - precise instructions are in the AI APIs guide (guide 9)\n",
    "\n",
    "openai = OpenAI()"
   ]
  },
  {
   "cell_type": "code",
   "execution_count": 6,
   "metadata": {},
   "outputs": [],
   "source": [
    "# Create a list of messages in the familiar OpenAI format\n",
    "\n",
    "messages = [{\"role\": \"user\", \"content\": \"What is 2+2?\"}]"
   ]
  },
  {
   "cell_type": "code",
   "execution_count": 7,
   "metadata": {},
   "outputs": [
    {
     "name": "stdout",
     "output_type": "stream",
     "text": [
      "2 + 2 equals 4.\n"
     ]
    }
   ],
   "source": [
    "# And now call it! Any problems, head to the troubleshooting guide\n",
    "# This uses GPT 4.1 nano, the incredibly cheap model\n",
    "# The APIs guide (guide 9) has exact instructions for using even cheaper or free alternatives to OpenAI\n",
    "# If you get a NameError, head to the guides folder (guide 6) to learn about NameErrors - always instantly fixable\n",
    "\n",
    "response = openai.chat.completions.create(\n",
    "    model=\"gpt-4.1-nano\",\n",
    "    messages=messages\n",
    ")\n",
    "\n",
    "print(response.choices[0].message.content)\n"
   ]
  },
  {
   "cell_type": "code",
   "execution_count": 8,
   "metadata": {},
   "outputs": [],
   "source": [
    "# And now - let's ask for a question:\n",
    "\n",
    "question = \"Please propose a hard, challenging question to assess someone's IQ. Respond only with the question.\"\n",
    "messages = [{\"role\": \"user\", \"content\": question}]\n"
   ]
  },
  {
   "cell_type": "code",
   "execution_count": 9,
   "metadata": {},
   "outputs": [
    {
     "name": "stdout",
     "output_type": "stream",
     "text": [
      "A bat and a ball cost $1.10 in total. The bat costs $1.00 more than the ball. How much does the ball cost?\n"
     ]
    }
   ],
   "source": [
    "# ask it - this uses GPT 4.1 mini, still cheap but more powerful than nano\n",
    "\n",
    "response = openai.chat.completions.create(\n",
    "    model=\"gpt-4.1-mini\",\n",
    "    messages=messages\n",
    ")\n",
    "\n",
    "question = response.choices[0].message.content\n",
    "\n",
    "print(question)\n"
   ]
  },
  {
   "cell_type": "code",
   "execution_count": 10,
   "metadata": {},
   "outputs": [],
   "source": [
    "# form a new messages list\n",
    "messages = [{\"role\": \"user\", \"content\": question}]\n"
   ]
  },
  {
   "cell_type": "code",
   "execution_count": 11,
   "metadata": {},
   "outputs": [
    {
     "name": "stdout",
     "output_type": "stream",
     "text": [
      "Let's denote:\n",
      "\n",
      "- The cost of the ball as \\( x \\) dollars.\n",
      "- The cost of the bat as \\( x + 1.00 \\) dollars (since the bat costs \\$1.00 more than the ball).\n",
      "\n",
      "Given that:\n",
      "\n",
      "\\[\n",
      "x + (x + 1.00) = 1.10\n",
      "\\]\n",
      "\n",
      "Simplify:\n",
      "\n",
      "\\[\n",
      "2x + 1.00 = 1.10\n",
      "\\]\n",
      "\n",
      "Subtract 1.00 from both sides:\n",
      "\n",
      "\\[\n",
      "2x = 0.10\n",
      "\\]\n",
      "\n",
      "Divide both sides by 2:\n",
      "\n",
      "\\[\n",
      "x = 0.05\n",
      "\\]\n",
      "\n",
      "**Answer:**\n",
      "\n",
      "The ball costs **5 cents** (\\$0.05).\n"
     ]
    }
   ],
   "source": [
    "# Ask it again\n",
    "\n",
    "response = openai.chat.completions.create(\n",
    "    model=\"gpt-4.1-mini\",\n",
    "    messages=messages\n",
    ")\n",
    "\n",
    "answer = response.choices[0].message.content\n",
    "print(answer)\n"
   ]
  },
  {
   "cell_type": "code",
   "execution_count": 12,
   "metadata": {},
   "outputs": [
    {
     "data": {
      "text/markdown": [
       "Let's denote:\n",
       "\n",
       "- The cost of the ball as \\( x \\) dollars.\n",
       "- The cost of the bat as \\( x + 1.00 \\) dollars (since the bat costs \\$1.00 more than the ball).\n",
       "\n",
       "Given that:\n",
       "\n",
       "\\[\n",
       "x + (x + 1.00) = 1.10\n",
       "\\]\n",
       "\n",
       "Simplify:\n",
       "\n",
       "\\[\n",
       "2x + 1.00 = 1.10\n",
       "\\]\n",
       "\n",
       "Subtract 1.00 from both sides:\n",
       "\n",
       "\\[\n",
       "2x = 0.10\n",
       "\\]\n",
       "\n",
       "Divide both sides by 2:\n",
       "\n",
       "\\[\n",
       "x = 0.05\n",
       "\\]\n",
       "\n",
       "**Answer:**\n",
       "\n",
       "The ball costs **5 cents** (\\$0.05)."
      ],
      "text/plain": [
       "<IPython.core.display.Markdown object>"
      ]
     },
     "metadata": {},
     "output_type": "display_data"
    }
   ],
   "source": [
    "from IPython.display import Markdown, display\n",
    "\n",
    "display(Markdown(answer))\n",
    "\n"
   ]
  },
  {
   "cell_type": "markdown",
   "metadata": {},
   "source": [
    "# Congratulations!\n",
    "\n",
    "That was a small, simple step in the direction of Agentic AI, with your new environment!\n",
    "\n",
    "Next time things get more interesting..."
   ]
  },
  {
   "cell_type": "markdown",
   "metadata": {},
   "source": [
    "<table style=\"margin: 0; text-align: left; width:100%\">\n",
    "    <tr>\n",
    "        <td style=\"width: 150px; height: 150px; vertical-align: middle;\">\n",
    "            <img src=\"../assets/exercise.png\" width=\"150\" height=\"150\" style=\"display: block;\" />\n",
    "        </td>\n",
    "        <td>\n",
    "            <h2 style=\"color:#ff7800;\">Exercise</h2>\n",
    "            <span style=\"color:#ff7800;\">Now try this commercial application:<br/>\n",
    "            First ask the LLM to pick a business area that might be worth exploring for an Agentic AI opportunity.<br/>\n",
    "            Then ask the LLM to present a pain-point in that industry - something challenging that might be ripe for an Agentic solution.<br/>\n",
    "            Finally have 3 third LLM call propose the Agentic AI solution. <br/>\n",
    "            We will cover this at up-coming labs, so don't worry if you're unsure.. just give it a try!\n",
    "            </span>\n",
    "        </td>\n",
    "    </tr>\n",
    "</table>"
   ]
  },
  {
   "cell_type": "code",
   "execution_count": 13,
   "metadata": {},
   "outputs": [
    {
     "data": {
      "text/markdown": [
       "One promising business area for an Agentic AI opportunity is **Autonomous Supply Chain Management**.\n",
       "\n",
       "### Why Autonomous Supply Chain Management?\n",
       "\n",
       "1. **Complex Coordination Needs:** Supply chains involve multiple stakeholders (suppliers, manufacturers, logistics providers, retailers) and require dynamic coordination to adapt to disruptions, demand fluctuations, and inventory management.\n",
       "\n",
       "2. **Data-Driven Decision Making:** Modern supply chains generate vast amounts of data — from IoT sensors, market trends, transportation statuses — that an agentic AI can monitor, analyze, and act upon in real-time.\n",
       "\n",
       "3. **Autonomous Negotiation & Procurement:** Agentic AI can autonomously negotiate contracts, optimize procurement timings, and manage supplier relationships to improve costs and efficiency.\n",
       "\n",
       "4. **Proactive Problem Solving:** Instead of just alerting human managers, an agentic AI can proactively reroute shipments, reschedule production, or find alternate suppliers in case of delays or shortages.\n",
       "\n",
       "5. **Optimization Across Multiple Objectives:** Balancing speed, cost, carbon footprint, and risk is a complex multi-objective problem where agentic AI can continuously learn and improve decisions.\n",
       "\n",
       "### Potential Applications\n",
       "\n",
       "- Autonomous inventory replenishment and warehouse management.\n",
       "- Dynamic route planning and freight optimization.\n",
       "- Real-time demand forecasting and production scheduling.\n",
       "- Risk mitigation by anticipating supply chain disruptions using external data (weather, geopolitical events).\n",
       "\n",
       "---\n",
       "\n",
       "Exploring autonomous supply chain management leverages the strengths of agentic AI in decision autonomy, continuous learning, and multi-stakeholder coordination, making it a valuable business opportunity."
      ],
      "text/plain": [
       "<IPython.core.display.Markdown object>"
      ]
     },
     "metadata": {},
     "output_type": "display_data"
    }
   ],
   "source": [
    "response = openai.chat.completions.create(\n",
    "    model=\"gpt-4.1-mini\",\n",
    "    messages=[{\n",
    "        \"role\": \"user\", \n",
    "        \"content\": \"pick a business area that might be worth exploring for an Agentic AI opportunity\"\n",
    "    }]\n",
    ")\n",
    "\n",
    "business_idea = response.choices[0].message.content\n",
    "display(Markdown(business_idea))\n"
   ]
  },
  {
   "cell_type": "code",
   "execution_count": 14,
   "metadata": {},
   "outputs": [
    {
     "data": {
      "text/markdown": [
       "A significant pain-point in the Autonomous Supply Chain Management (SCM) industry is **real-time disruption management and adaptive decision-making across complex, multi-tier networks**.\n",
       "\n",
       "### Explanation:\n",
       "Supply chains today are highly interconnected and global, involving numerous suppliers, manufacturers, logistics providers, and retailers. Unexpected disruptions—such as delays, equipment failures, natural disasters, geopolitical events, or sudden demand changes—can ripple through the entire network. The challenge is that existing autonomous systems often operate with siloed or static models, lacking the capacity to dynamically:\n",
       "\n",
       "- Detect disruptions from a wide array of data sources in real-time,\n",
       "- Assess the cascading impacts across multiple tiers and geographies,\n",
       "- Coordinate responses autonomously between stakeholders with differing priorities,\n",
       "- Adapt strategies as new information emerges, balancing cost, speed, and risk continuously.\n",
       "\n",
       "### Why this is ripe for an Agentic solution:\n",
       "An agentic AI system, endowed with capabilities for autonomous goal-setting, negotiation, and collaboration, could act as a distributed \"supply chain orchestrator.\" Such agents could continually gather diverse data, simulate outcomes, reason about trade-offs, and execute decisions or propose alternatives dynamically. They could:\n",
       "\n",
       "- Negotiate with human and machine agents to re-route shipments, adjust production schedules, or source alternate suppliers on the fly,\n",
       "- Learn from previous disruptions to improve future resilience,\n",
       "- Balance competing objectives (cost, sustainability, delivery time) proactively.\n",
       "\n",
       "In short, agentic autonomy could enable a more resilient, flexible, and intelligent supply chain that self-manages complexity and disruption without human micromanagement."
      ],
      "text/plain": [
       "<IPython.core.display.Markdown object>"
      ]
     },
     "metadata": {},
     "output_type": "display_data"
    }
   ],
   "source": [
    "response = openai.chat.completions.create(\n",
    "    model=\"gpt-4.1-mini\",\n",
    "    messages=[{\n",
    "        \"role\": \"user\", \n",
    "        \"content\": \"present a pain-point in the Autonomous Supply Chain Management industry - something challenging that might be ripe for an Agentic solution\"\n",
    "    }]\n",
    ")\n",
    "\n",
    "business_idea = response.choices[0].message.content\n",
    "display(Markdown(business_idea))"
   ]
  },
  {
   "cell_type": "code",
   "execution_count": 15,
   "metadata": {},
   "outputs": [
    {
     "data": {
      "text/markdown": [
       "Certainly! Here's a detailed proposal for an AI Agent solution designed to handle real-time disruption management and adaptive decision-making in complex, multi-tier Autonomous Supply Chain Management (SCM) networks.\n",
       "\n",
       "---\n",
       "\n",
       "## AI Agent Solution for Real-Time Disruption Management and Adaptive Decision-Making in Autonomous SCM\n",
       "\n",
       "### 1. **Problem Context**\n",
       "\n",
       "In multi-tier supply chains,\n",
       "- Disruptions can occur at any node (supplier delays, transport breakdowns, geopolitical events).\n",
       "- The network complexity and interdependencies make it challenging to foresee ripple effects.\n",
       "- Real-time visibility and rapid response are critical to maintaining service levels, minimizing costs, and optimizing operations.\n",
       "\n",
       "---\n",
       "\n",
       "### 2. **Proposed Solution Overview**\n",
       "\n",
       "Develop a **Hierarchical Multi-Agent AI System** composed of intelligent agents distributed across the supply chain tiers. These agents collaborate, communicate, and learn to:\n",
       "\n",
       "- Detect and predict disruptions in real time.\n",
       "- Assess impact across tiers.\n",
       "- Adapt decisions dynamically to mitigate risks.\n",
       "- Optimize supply chain performance with a balance of local autonomy and global coordination.\n",
       "\n",
       "---\n",
       "\n",
       "### 3. **Key Components**\n",
       "\n",
       "#### a. **Agent Types**\n",
       "\n",
       "- **Local Agents** (Tier-specific): Monitor and manage disruptions at single nodes or facilities (suppliers, warehouses, transport hubs).\n",
       "- **Regional Agents**: Aggregate data from local agents across a geographic or functional cluster, perform impact analysis regionally.\n",
       "- **Global Coordination Agent**: Oversees entire network status, optimizes cross-regional decisions, resolves conflicts.\n",
       "\n",
       "#### b. **Capabilities**\n",
       "\n",
       "- **Real-Time Data Ingestion & Fusion**  \n",
       "  Agents integrate IoT sensors, ERP/MRP systems, transportation management systems, weather feeds, social media, news, and supplier inputs.\n",
       "\n",
       "- **Anomaly Detection & Disruption Prediction**  \n",
       "  Use probabilistic models, time-series forecasting (LSTM, Transformer-based models), and causality analysis to identify potential delays, shortages, and risks proactively.\n",
       "\n",
       "- **Impact Propagation Modelling**  \n",
       "  Graph Neural Networks (GNNs) or Bayesian Networks model dependencies along multi-tier links for immediate ripple effect assessment.\n",
       "\n",
       "- **Adaptive Decision-Making**  \n",
       "  Reinforcement Learning (RL) agents continuously learn from interactions to:\n",
       "  - Reroute shipments.\n",
       "  - Reallocate inventory.\n",
       "  - Change production schedules.\n",
       "  - Engage alternative suppliers.\n",
       "  Policy gradients / Multi-agent RL facilitate cooperation and negotiation.\n",
       "\n",
       "- **Human-in-the-loop Interaction**  \n",
       "  Provide actionable insights and recommendations, with adjustable autonomy levels allowing human override or confirmation.\n",
       "\n",
       "---\n",
       "\n",
       "### 4. **Technical Architecture**\n",
       "\n",
       "```\n",
       "+-----------------------------------------------------------+\n",
       "|                   Global Coordination Agent               |\n",
       "|            (Cross-tier optimization, conflict resolution) |\n",
       "+----------------------+------------------------+-----------+\n",
       "                       |                        |\n",
       "+----------------------+                        +----------------------+\n",
       "| Regional Agents (Geo/Function clusters)                           |\n",
       "| - Aggregate local states                                          |\n",
       "| - Regional risk assessment & mitigation                          |\n",
       "+----------------------+------------------------+-------------------+\n",
       "                       |                        |\n",
       "          +------------+------------+    +------+-------------+\n",
       "          |                         |    |                    |\n",
       "+------------------+     +-------------------+     +--------------------+\n",
       "| Local Agent (Supplier A) | Local Agent (Warehouse B) | Local Agent (Transport) |\n",
       "| Sensors, ERP, Inventory  | Sensors, IMS, Scheduling | Fleet management, GPS  |\n",
       "+------------------+     +-------------------+     +--------------------+\n",
       "```\n",
       "\n",
       "- **Communication**: Messaging queues (Kafka, MQTT) for asynchronous real-time data exchange.\n",
       "- **Data Layer**: Distributed ledger or synchronized blockchain for shared visibility & trust.\n",
       "- **Computation**: Edge computing for latency-sensitive decisions locally; cloud for global analytics.\n",
       "\n",
       "---\n",
       "\n",
       "### 5. **Workflow Example**\n",
       "\n",
       "1. **Disruption detection**: Local agent detects supplier delay via IoT + order system.\n",
       "2. **Impact propagation**: Regional agent estimates downstream effects on manufacturing and fulfillment using GNN.\n",
       "3. **Adaptive response**: RL agent suggests supplier substitutions and rerouting inventory replenishment.\n",
       "4. **Global review**: Global agent reconciles cross-region impacts, proposes optimal aggregated plan.\n",
       "5. **Execution & Feedback**: Agents implement decisions; performance data feeds back for continuous learning.\n",
       "\n",
       "---\n",
       "\n",
       "### 6. **Benefits**\n",
       "\n",
       "- **Proactive disruption management** minimizes downtime and customer impact.\n",
       "- **Scalable and flexible** solutions accommodate complex, evolving networks.\n",
       "- **Improved resilience** through multi-agent collaboration and adaptive behaviors.\n",
       "- **Enhanced transparency and trust** using federated data sharing.\n",
       "- **Continuous improvement** via AI-driven learning and optimization.\n",
       "\n",
       "---\n",
       "\n",
       "### 7. **Challenges & Mitigation**\n",
       "\n",
       "| Challenge                      | Mitigation Approach                          |\n",
       "|-------------------------------|---------------------------------------------|\n",
       "| Data Silos and Integration     | Use standard APIs, data lakes, blockchain   |\n",
       "| Real-time Scalability          | Edge computing and prioritized messaging    |\n",
       "| Model Explainability           | Incorporate explainable AI methods           |\n",
       "| Inter-agent Conflict           | Define conflict-resolution protocols, arbitration agents |\n",
       "| Security & Privacy             | Encrypted communication, federated learning |\n",
       "\n",
       "---\n",
       "\n",
       "### 8. **Roadmap & Next Steps**\n",
       "\n",
       "- **Phase 1**: Develop and deploy Local Agents on pilot sites with core disruption detection.\n",
       "- **Phase 2**: Implement Regional Agents with impact propagation models.\n",
       "- **Phase 3**: Build Global Coordination Agent integrating RL for multi-agent adaptive decision-making.\n",
       "- **Phase 4**: Integrate human-in-the-loop interfaces and conduct end-to-end supply chain simulations.\n",
       "- **Phase 5**: Scale across full multi-tier network, optimize, and refine.\n",
       "\n",
       "---\n",
       "\n",
       "If you want, I can also provide design considerations, tech stack recommendations, or a prototypical implementation outline. Would you like me to proceed with that?"
      ],
      "text/plain": [
       "<IPython.core.display.Markdown object>"
      ]
     },
     "metadata": {},
     "output_type": "display_data"
    }
   ],
   "source": [
    "response = openai.chat.completions.create(\n",
    "    model=\"gpt-4.1-mini\",\n",
    "    messages=[{\n",
    "        \"role\": \"user\", \n",
    "        \"content\": \"Propose an AI Agent solution for real-time disruption management and \\\n",
    "        adaptive decision-making across complex, multi-tier networks in the \\\n",
    "        Autonomous Supply Chain Management (SCM) industry\"\n",
    "    }]\n",
    ")\n",
    "\n",
    "business_idea = response.choices[0].message.content\n",
    "display(Markdown(business_idea))"
   ]
  },
  {
   "cell_type": "code",
   "execution_count": null,
   "metadata": {},
   "outputs": [],
   "source": []
  }
 ],
 "metadata": {
  "kernelspec": {
   "display_name": ".venv",
   "language": "python",
   "name": "python3"
  },
  "language_info": {
   "codemirror_mode": {
    "name": "ipython",
    "version": 3
   },
   "file_extension": ".py",
   "mimetype": "text/x-python",
   "name": "python",
   "nbconvert_exporter": "python",
   "pygments_lexer": "ipython3",
   "version": "3.12.6"
  }
 },
 "nbformat": 4,
 "nbformat_minor": 2
}
